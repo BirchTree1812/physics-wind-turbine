{
 "cells": [
  {
   "cell_type": "code",
   "execution_count": 2,
   "metadata": {},
   "outputs": [],
   "source": [
    "import pandas as pd\n",
    "import matplotlib.pyplot as plt\n",
    "import seaborn as sns\n",
    "from datetime import datetime, timedelta\n",
    "from dateutil.relativedelta import relativedelta\n",
    "import calendar\n",
    "import numpy as np\n",
    "from scipy.stats import weibull_min\n",
    "import numpy as np\n"
   ]
  },
  {
   "cell_type": "markdown",
   "metadata": {},
   "source": [
    "## Part 1: Study of Dataset\n",
    "\n",
    "This is the part, where we learn more about the dataset. It may not contribute to the grade as much as the next part, but it still matters."
   ]
  },
  {
   "cell_type": "markdown",
   "metadata": {},
   "source": [
    "One of the main assumptions is that each cell is equivalent to 30 mins. Many calculations will hinge on this assumption"
   ]
  },
  {
   "cell_type": "code",
   "execution_count": 3,
   "metadata": {},
   "outputs": [
    {
     "name": "stdout",
     "output_type": "stream",
     "text": [
      "air_temp                                    9\n",
      "albedo                                   0.13\n",
      "azimuth                                    -4\n",
      "clearsky_dhi                                0\n",
      "clearsky_dni                                0\n",
      "clearsky_ghi                                0\n",
      "clearsky_gti                                0\n",
      "cloud_opacity                             0.0\n",
      "dewpoint_temp                             6.6\n",
      "dhi                                         0\n",
      "dni                                         0\n",
      "ghi                                         0\n",
      "gti                                         0\n",
      "precipitable_water                       11.8\n",
      "precipitation_rate                        0.0\n",
      "relative_humidity                        84.5\n",
      "surface_pressure                       1013.4\n",
      "snow_depth                                0.0\n",
      "snow_water_equivalent                     0.0\n",
      "snow_soiling_rooftop                        0\n",
      "snow_soiling_ground                         0\n",
      "wind_direction_100m                       221\n",
      "wind_direction_10m                        217\n",
      "wind_speed_100m                           8.4\n",
      "wind_speed_10m                            4.7\n",
      "zenith                                    157\n",
      "period_end               2014-01-01T00:30:00Z\n",
      "period                                  PT30M\n",
      "Name: 0, dtype: object\n"
     ]
    }
   ],
   "source": [
    "data = pd.read_csv(\"la_rochelle.csv\")\n",
    "data.loc[data.duplicated(keep=False), :]\n",
    "df = pd.DataFrame(data)\n",
    "print(df.iloc[0])"
   ]
  },
  {
   "cell_type": "markdown",
   "metadata": {},
   "source": [
    "At first, I thought that azimuth is one of the wind variables. But I realized that it has little importance for what comes next, so I removed it."
   ]
  },
  {
   "cell_type": "code",
   "execution_count": 4,
   "metadata": {},
   "outputs": [
    {
     "name": "stdout",
     "output_type": "stream",
     "text": [
      "wind_direction_100m                     221\n",
      "wind_direction_10m                      217\n",
      "wind_speed_100m                         8.4\n",
      "wind_speed_10m                          4.7\n",
      "period_end             2014-01-01T00:30:00Z\n",
      "period                                PT30M\n",
      "Name: 0, dtype: object\n"
     ]
    }
   ],
   "source": [
    "df = pd.DataFrame(data, columns = [\"wind_direction_100m\", \"wind_direction_10m\", \"wind_speed_100m\", \"wind_speed_10m\", \"period_end\", \"period\"])\n",
    "print(df.iloc[0])"
   ]
  },
  {
   "cell_type": "markdown",
   "metadata": {},
   "source": [
    "This part of the code takes the data for only one year from the dataframe. I'll eventually do the same thing for each year of the dataframe."
   ]
  },
  {
   "cell_type": "markdown",
   "metadata": {},
   "source": []
  },
  {
   "cell_type": "code",
   "execution_count": 5,
   "metadata": {},
   "outputs": [
    {
     "name": "stdout",
     "output_type": "stream",
     "text": [
      "       wind_direction_100m  wind_direction_10m  wind_speed_100m  \\\n",
      "0                      221                 217              8.4   \n",
      "1                      220                 216              8.4   \n",
      "2                      219                 215              8.5   \n",
      "3                      219                 214              8.6   \n",
      "4                      217                 212              8.8   \n",
      "...                    ...                 ...              ...   \n",
      "17516                   96                  94              5.8   \n",
      "17517                   98                  96              5.5   \n",
      "17518                   99                  96              5.1   \n",
      "17519                  100                  95              4.5   \n",
      "17520                  101                  94              4.1   \n",
      "\n",
      "       wind_speed_10m          period_end period  \n",
      "0                 4.7 2014-01-01 00:30:00  PT30M  \n",
      "1                 4.8 2014-01-01 01:00:00  PT30M  \n",
      "2                 4.9 2014-01-01 01:30:00  PT30M  \n",
      "3                 5.0 2014-01-01 02:00:00  PT30M  \n",
      "4                 5.1 2014-01-01 02:30:00  PT30M  \n",
      "...               ...                 ...    ...  \n",
      "17516             2.9 2014-12-31 22:30:00  PT30M  \n",
      "17517             2.7 2014-12-31 23:00:00  PT30M  \n",
      "17518             2.5 2014-12-31 23:30:00  PT30M  \n",
      "17519             2.4 2015-01-01 00:00:00  PT30M  \n",
      "17520             2.3 2015-01-01 00:30:00  PT30M  \n",
      "\n",
      "[17521 rows x 6 columns]\n"
     ]
    }
   ],
   "source": [
    "# define the column for the date and convert its data to the date/time period\n",
    "df[\"period_end\"]=pd.to_datetime(df[\"period_end\"], format=\"%Y-%m-%dT%H:%M:%SZ\")\n",
    "\n",
    "# Original date\n",
    "start_date = df[\"period_end\"].iloc[0]\n",
    "\n",
    "# Add one year to the date\n",
    "end_date = start_date + relativedelta(years=1)\n",
    "\n",
    "# contain the dataset to only 1 year\n",
    "df1 = df[df[\"period_end\"] <= end_date]\n",
    "\n",
    "df1[\"wind_speed_10m\"].astype(float)\n",
    "df1[\"wind_speed_100m\"].astype(float)\n",
    "df1[\"wind_direction_10m\"].astype(float)\n",
    "df1[\"wind_direction_100m\"].astype(float)\n",
    "\n",
    "\n",
    "# sample of the dataset with much fewer data points, all selected randomly\n",
    "df2 = df1.sample(n=400, random_state=42)\n",
    "\n",
    "# print the dataset to make sure it's exactly 1 year\n",
    "print(df1)"
   ]
  },
  {
   "cell_type": "markdown",
   "metadata": {},
   "source": [
    "I plotted four graphs, one for each wind-related variable, over the course of one year. Since 17500 points for each graph is too much, I decided to randomly select only 400 points beforehand."
   ]
  },
  {
   "cell_type": "code",
   "execution_count": 6,
   "metadata": {},
   "outputs": [],
   "source": [
    "variable_list = [\"wind_direction_100m\", \"wind_direction_10m\", \"wind_speed_100m\", \"wind_speed_10m\"]\n",
    "fig, axs = plt.subplots(4, 1, figsize=(12, 18))\n",
    "ax_index = 0\n",
    "for variable in variable_list:\n",
    "    ax_current = axs[ax_index]\n",
    "    sns.lineplot(ax = ax_current, x=df2[\"period_end\"],y=df2[variable], label=variable)\n",
    "    ax_current.set_ylabel('Wind data')\n",
    "    ax_current.set_xlabel('Date')\n",
    "    ax_index+=1\n",
    "plt.savefig(\"wind_variables_1year.webp\")\n",
    "plt.close()\n",
    "\n",
    "\n",
    "# # this takes too much time, even though it's only 17500 data points. For this reason, I am using the dataset with 400 random points\n",
    "# plt.figure(figsize=(12, 6))\n",
    "# sns.lineplot(x=df2[\"period_end\"],y=df2[\"wind_direction_100m\"], label=\"wind_direction_100m\")\n",
    "# sns.lineplot(x=df2[\"period_end\"],y=df2[\"wind_speed_100m\"], label=\"wind_speed_100m\")\n",
    "# plt.ylabel('Wind data')\n",
    "# plt.xlabel('Date')\n",
    "# plt.yscale(\"log\")\n",
    "# plt.legend()\n",
    "# plt.xticks(rotation=45)\n",
    "# plt.gca().xaxis.set_major_locator(plt.MaxNLocator(10))  # Set maximum number of major ticks\n",
    "# plt.savefig(\"wind_variables_1year.webp\")\n",
    "# plt.close()"
   ]
  },
  {
   "cell_type": "markdown",
   "metadata": {},
   "source": [
    "This code here checks how many hours"
   ]
  },
  {
   "cell_type": "code",
   "execution_count": 7,
   "metadata": {},
   "outputs": [
    {
     "name": "stdout",
     "output_type": "stream",
     "text": [
      "       wind_direction_100m  wind_direction_10m  wind_speed_100m  \\\n",
      "341                    188                 164              3.9   \n",
      "342                    182                 156              3.7   \n",
      "343                    174                 148              3.8   \n",
      "408                    281                 281              4.0   \n",
      "409                    281                 281              3.7   \n",
      "...                    ...                 ...              ...   \n",
      "17496                   78                  78              3.9   \n",
      "17497                   72                  71              3.6   \n",
      "17498                   66                  65              3.6   \n",
      "17499                   62                  62              3.8   \n",
      "17500                   61                  61              4.0   \n",
      "\n",
      "       wind_speed_10m          period_end period  \n",
      "341               2.1 2014-01-08 03:00:00  PT30M  \n",
      "342               2.1 2014-01-08 03:30:00  PT30M  \n",
      "343               2.2 2014-01-08 04:00:00  PT30M  \n",
      "408               2.9 2014-01-09 12:30:00  PT30M  \n",
      "409               2.7 2014-01-09 13:00:00  PT30M  \n",
      "...               ...                 ...    ...  \n",
      "17496             3.1 2014-12-31 12:30:00  PT30M  \n",
      "17497             2.9 2014-12-31 13:00:00  PT30M  \n",
      "17498             2.9 2014-12-31 13:30:00  PT30M  \n",
      "17499             3.0 2014-12-31 14:00:00  PT30M  \n",
      "17500             3.0 2014-12-31 14:30:00  PT30M  \n",
      "\n",
      "[4077 rows x 6 columns]\n",
      "2038.5  hours without meaningful wind\n"
     ]
    }
   ],
   "source": [
    "# epsilon is a tolerance value, which accounts for data points very close to 0, but not equal to 0\n",
    "# in this case it means wind speed so small, that it's negligible\n",
    "epsilon = 4\n",
    "\n",
    "df3 = df1[df1[\"wind_speed_100m\"]<=epsilon]\n",
    "print(df3)\n",
    "\n",
    "# assuming that each period is around 30 mins=0.5 hrs, the amount of time, for which wind speed was negligible, is \n",
    "print(0.5*df3.shape[0], \" hours without meaningful wind\")"
   ]
  },
  {
   "cell_type": "markdown",
   "metadata": {},
   "source": [
    "Plots over the course of 1 year the monthly average features of the wind. Wind speed for 100 m/10 m height, as well as wind direction for 100 m/10 m height.\n",
    "Also, I printed the start/end values of each month to make sure, that my code correctly understands how to plot that graph."
   ]
  },
  {
   "cell_type": "code",
   "execution_count": 31,
   "metadata": {},
   "outputs": [
    {
     "name": "stdout",
     "output_type": "stream",
     "text": [
      "2015-01-01 00:30:00\n",
      "2014-01-01 00:30:00\n",
      "The start of the month is 2014-01-01 00:30:00\n",
      "The end of the month is 2014-01-31 00:30:00\n",
      "The start of the month is 2014-02-01 00:30:00\n",
      "The end of the month is 2014-01-31 00:30:00\n",
      "The start of the month is 2014-03-01 00:30:00\n",
      "The end of the month is 2014-02-28 00:30:00\n",
      "The start of the month is 2014-04-01 00:30:00\n",
      "The end of the month is 2014-03-31 00:30:00\n",
      "The start of the month is 2014-05-01 00:30:00\n",
      "The end of the month is 2014-04-30 00:30:00\n",
      "The start of the month is 2014-06-01 00:30:00\n",
      "The end of the month is 2014-05-31 00:30:00\n",
      "The start of the month is 2014-07-01 00:30:00\n",
      "The end of the month is 2014-06-30 00:30:00\n",
      "The start of the month is 2014-08-01 00:30:00\n",
      "The end of the month is 2014-07-31 00:30:00\n",
      "The start of the month is 2014-09-01 00:30:00\n",
      "The end of the month is 2014-08-31 00:30:00\n",
      "The start of the month is 2014-10-01 00:30:00\n",
      "The end of the month is 2014-09-30 00:30:00\n",
      "The start of the month is 2014-11-01 00:30:00\n",
      "The end of the month is 2014-10-31 00:30:00\n",
      "The start of the month is 2014-12-01 00:30:00\n",
      "The end of the month is 2014-11-30 00:30:00\n"
     ]
    }
   ],
   "source": [
    "# this will be a loop for finding monthly averages of wind features\n",
    "# starting date of the month. In this case it's the starting date of the year\n",
    "startmonth = df1[\"period_end\"].iloc[0]\n",
    "# ending date of the month. Will be defined at the beginning of each iteration of the loop\n",
    "endmonth = startmonth+relativedelta(months=1)-timedelta(days=1)\n",
    "# end of the year, used as stopping condition for the while loop\n",
    "endyear = df1[\"period_end\"].iloc[-1]\n",
    "\n",
    "# print endyear and startmonth just to make sure\n",
    "print(endyear)\n",
    "print(startmonth)\n",
    "\n",
    "# can't use start month and end month as indices, can I?\n",
    "# so I ought to use boolean indexing\n",
    "# and yes, avg_wind_direction_100m is different from avg_wind_direction_10m. Difference is negligible, but exists\n",
    "avg_wind_direction_100m_list=[]\n",
    "avg_wind_direction_10m_list=[]\n",
    "avg_wind_speed_100m_list=[]\n",
    "avg_wind_speed_10m_list=[]\n",
    "\n",
    "# list of months\n",
    "monthlist = calendar.month_name[1:]\n",
    "\n",
    "# I probably should have coded a while loop that lasts until the end of the year. But that gives 13 months somehow. \n",
    "# And we all know there are 12 of them\n",
    "for month in monthlist:\n",
    "    print(\"The start of the month is\", startmonth)\n",
    "    print(\"The end of the month is\", endmonth)\n",
    "    # define endmonth based on the startmonth\n",
    "    endmonth = (startmonth+relativedelta(months=1))-timedelta(days=1)\n",
    "    # slice the dataframe based on the starting and ending dates. \n",
    "    df_month = df1[(df1['period_end'] >= startmonth) & (df1['period_end'] <= endmonth)]\n",
    "    avg_wind_direction_100m = df_month[\"wind_direction_100m\"].mean()\n",
    "    avg_wind_direction_100m_list.append(avg_wind_direction_100m)\n",
    "    avg_wind_direction_10m = df_month[\"wind_direction_10m\"].mean()\n",
    "    avg_wind_direction_10m_list.append(avg_wind_direction_10m)\n",
    "    avg_wind_speed_100m = df_month[\"wind_speed_100m\"].mean()\n",
    "    avg_wind_speed_100m_list.append(avg_wind_speed_100m)\n",
    "    avg_wind_speed_10m = df_month[\"wind_speed_10m\"].mean()\n",
    "    avg_wind_speed_10m_list.append(avg_wind_speed_10m)\n",
    "    startmonth=endmonth+timedelta(days=1)\n",
    "\n",
    "\n",
    "fig, axs = plt.subplots(2, 2,figsize=(21, 9))\n",
    "monthlist = calendar.month_name[1:]\n",
    "axs[0,0].plot(monthlist, avg_wind_direction_100m_list)\n",
    "axs[0, 0].set_title('Average wind direction 100 m')\n",
    "axs[0,1].plot(monthlist, avg_wind_direction_10m_list)\n",
    "axs[0, 1].set_title('Average wind direction 10 m')\n",
    "axs[1,0].plot(monthlist, avg_wind_speed_100m_list)\n",
    "axs[1, 0].set_title('Average wind speed 100 m')\n",
    "axs[1,1].plot(monthlist, avg_wind_speed_10m_list)\n",
    "axs[1, 1].set_title('Average wind speed 10 m')\n",
    "fig.suptitle(\"Average monthly wind data for La Rochelle 2014\", fontsize = 24)\n",
    "fig.tight_layout()\n",
    "plt.savefig(\"12_months_averages.webp\")\n",
    "plt.close()\n"
   ]
  },
  {
   "cell_type": "markdown",
   "metadata": {},
   "source": [
    "This code plots the histograms for wind speed distributions."
   ]
  },
  {
   "cell_type": "code",
   "execution_count": 9,
   "metadata": {},
   "outputs": [],
   "source": [
    "fig, axs = plt.subplots(2, 1,figsize=(9, 9))\n",
    "\n",
    "axs[0].hist(df1[\"wind_speed_100m\"], bins=20)\n",
    "axs[0].set_title(\"Wind speed 100 m above ground distribution\")\n",
    "axs[0].set_ylabel('Frequency of wind speed')\n",
    "axs[0].set_xlabel('Wind speed (m/s)')\n",
    "axs[1].hist(df1[\"wind_speed_10m\"], bins=20)\n",
    "axs[1].set_title(\"Wind speed 10 m above ground distribution\")\n",
    "axs[1].set_ylabel('Frequency of speed')\n",
    "axs[1].set_xlabel('Wind speed (m/s)')\n",
    "plt.savefig(\"wind_speed_distributions.webp\")\n",
    "plt.close()"
   ]
  },
  {
   "cell_type": "markdown",
   "metadata": {},
   "source": [
    "This code uses a flawed version of Weibull function for plotting. I did not use it, merely turned it into comments, so that it would be possible to see my thought process and past errors."
   ]
  },
  {
   "cell_type": "code",
   "execution_count": 10,
   "metadata": {},
   "outputs": [],
   "source": [
    "\n",
    "# # defining the weibull function\n",
    "# def weibull(k, c, v):\n",
    "#     return (k/c)*(v/c)**(k-1)*np.exp(-(v/c)**k)\n",
    "\n",
    "# k=3\n",
    "# c = 5\n",
    "\n",
    "# df1[\"weibull_windspeed_100m\"]=weibull(k, c, df1[\"wind_speed_100m\"])\n",
    "# df1[\"weibull_windspeed_10m\"]=weibull(k, c, df1[\"wind_speed_10m\"])\n",
    "\n",
    "# fig, axs = plt.subplots(2, 1,figsize=(9, 9))\n",
    "\n",
    "# axs[0].hist(df1[\"wind_speed_100m\"], bins=20, label=\"Wind speed at\\n100 m height\")\n",
    "# axs[0].plot(df1[\"wind_speed_100m\"], df1[\"weibull_windspeed_100m\"], label=\"Weibull distribution\")\n",
    "# axs[0].set_title(\"Wind speed 100 m above ground distribution\")\n",
    "# axs[0].set_ylabel('Frequency of wind speed')\n",
    "# axs[0].set_xlabel('Wind speed (m/s)')\n",
    "# axs[0].legend()\n",
    "# axs[1].hist(df1[\"wind_speed_10m\"], bins=20, label=\"Wind speed at\\n10 m height\")\n",
    "# axs[1].plot(df1[\"wind_speed_10m\"], df1[\"weibull_windspeed_10m\"], label=\"Weibull distribution\")\n",
    "# axs[1].set_title(\"Wind speed 10 m above ground distribution\")\n",
    "# axs[1].set_ylabel('Frequency of speed')\n",
    "# axs[1].set_xlabel('Wind speed (m/s)')\n",
    "# axs[1].legend()\n",
    "# plt.savefig(\"wind_speed_weibull.webp\")\n",
    "# plt.close()"
   ]
  },
  {
   "cell_type": "markdown",
   "metadata": {},
   "source": [
    "This is the better version of the code, which imports Weibull function from Scipy. No need to calculate the constants manually."
   ]
  },
  {
   "cell_type": "code",
   "execution_count": 11,
   "metadata": {},
   "outputs": [
    {
     "name": "stdout",
     "output_type": "stream",
     "text": [
      "Shape parameter: 2.19\n",
      "Scale parameter: 7.33\n",
      "Shape parameter: 2.12\n",
      "Scale parameter: 4.84\n"
     ]
    }
   ],
   "source": [
    "# We select the appropriate data and drop empty cells if there are some to not disturb results \n",
    "data_100m = df1['wind_speed_100m'].dropna()\n",
    "data_10m = df1['wind_speed_10m'].dropna()\n",
    "\n",
    "# We fit the Weibull distribution to the data\n",
    "params_100m = weibull_min.fit(data_100m, floc=0)\n",
    "params_10m = weibull_min.fit(data_10m, floc=0)\n",
    "\n",
    "# Print the estimated parameters\n",
    "print('Shape parameter:', round(params_100m[0], 2))\n",
    "print('Scale parameter:', round(params_100m[2], 2))\n",
    "print('Shape parameter:', round(params_10m[0], 2))\n",
    "print('Scale parameter:', round(params_10m[2], 2))\n",
    "\n",
    "# We generate the Weibull distribution with the estimated parameters\n",
    "weibull_dist_100m = weibull_min(params_100m[0], loc=params_100m[1], scale=params_100m[2])\n",
    "weibull_dist_10m = weibull_min(params_10m[0], loc=params_10m[1], scale=params_10m[2])\n",
    "\n",
    "# We generate an array of values over the range of your data\n",
    "x_values_100m = np.linspace(min(data_100m), max(data_100m), 1000)\n",
    "x_values_10m = np.linspace(min(data_10m), max(data_10m), 1000)\n",
    "\n",
    "# We generate the PDF of the Weibull distribution for the x_values\n",
    "pdf_100m = weibull_dist_100m.pdf(x_values_100m)\n",
    "pdf_10m = weibull_dist_10m.pdf(x_values_10m)\n",
    "\n",
    "# Plot the PDF of the Weibull distribution\n",
    "fig, axs = plt.subplots(2, 1, figsize=(12, 9))\n",
    "\n",
    "# Add a legend and show the plot for PDF\n",
    "axs[0].hist(data_100m, bins=np.arange(0, 25, 0.5), density=True, alpha=0.5, label=\"Wind speed(100m)\")\n",
    "axs[0].plot(x_values_100m, pdf_100m, label='Weibull PDF(100m)', color='orange')\n",
    "axs[0].legend()\n",
    "axs[0].set_title('Weibull PDF Fit')\n",
    "axs[0].set_xlabel('Wind Speed (100m)')\n",
    "axs[0].set_ylabel('Density')\n",
    "axs[0].grid(True)\n",
    "axs[1].hist(data_10m, bins=np.arange(0, 25, 0.5), density=True, alpha=0.5, label=\"Wind speed(10m)\")\n",
    "axs[1].plot(x_values_10m, pdf_10m, label='Weibull PDF(10m)', color='orange')\n",
    "axs[1].legend()\n",
    "axs[1].set_title('Weibull PDF Fit')\n",
    "axs[1].set_xlabel('Wind Speed (10m)')\n",
    "axs[1].set_ylabel('Density')\n",
    "axs[1].grid(True)\n",
    "\n",
    "plt.savefig(\"wind_speed_weibull.webp\")\n",
    "plt.close()"
   ]
  },
  {
   "cell_type": "markdown",
   "metadata": {},
   "source": [
    "Wind direction matters for maximizing windmill's exposure to the wind, and thus its power generation."
   ]
  },
  {
   "cell_type": "markdown",
   "metadata": {},
   "source": [
    "## Part 2: Turbine Comparative Study\n",
    "\n",
    "This part is fairly difficult. Sometimes, we will make assumptions about data, like heights of windmills, that aren't necessarily true. For this reason, we will attribute the sources of the assumptions\n",
    "\n"
   ]
  },
  {
   "cell_type": "markdown",
   "metadata": {},
   "source": [
    "Alstom Eco 122 height - 89 meters\n",
    "https://en.wind-turbine-models.com/turbines/629-alstom-eco-122-2700\n",
    "\n",
    "Enercon E 33 height - 47 meters\n",
    "https://en.wind-turbine-models.com/turbines/368-enercon-e-33-300\n",
    "\n",
    "Aventa AV7 height - 18 meters\n",
    "https://en.wind-turbine-models.com/turbines/1529-aventa-av-7"
   ]
  },
  {
   "cell_type": "code",
   "execution_count": 12,
   "metadata": {},
   "outputs": [],
   "source": [
    "eco_122_dict = {1: 0, 2: 0, 3: 29, 4: 171, 5: 389, 6: 703, 7: 1139, 8: 1682, 9: 2205, 10: 2541, 11: 2669, 12: 2697, \n",
    "                    13: 2700, 14: 2700, 15: 2700, 16: 2700, 17: 2700, 18: 2700, 19: 2700, 20: 2700, 21: 2700, 22: 2700, \n",
    "                    23: 2700, 24: 2700, 25: 2700, 26: 2700, 27: 2700, 28: 0, 29: 0, 30: 0}\n",
    "\n",
    "enercon_33_dict = {1: 0.0, 2: 0.0, 3: 5.0, 4: 13.7, 5: 30.0, 6: 55.0, 7: 92.0, 8: 138.0, 9: 196.0, 10: 250.0, 11: 292.8, \n",
    "                   12: 320.0, 13: 335.0, 14: 335.0, 15: 335.0, 16: 335.0, 17: 335.0, 18: 335.0, 19: 335.0, 20: 335.0, 21: 335.0, \n",
    "                   22: 335.0, 23: 335.0, 24: 335.0, 25: 335.0, 26: 335.0, 27: 0.0, 28: 0.0, 29: 0.0, 30: 0.0}\n",
    "aventa_AV7_dict = {1: 0.0, 2: 0.1, 3: 0.7, 4: 1.5, 5: 3.1, 6: 5.8, 7: 6.2, 8: 6.2, 9: 6.2, 10: 6.2, 11: 6.2, 12: 6.2, 13: 6.2, \n",
    "         14: 6.2, 15: 0.0, 16: 0.0, 17: 0.0, 18: 0.0, 19: 0.0, 20: 0.0, 21: 0.0, 22: 0.0, 23: 0.0, 24: 0.0, 25: 0.0, \n",
    "         26: 0.0, 27: 0.0, 28: 0.0, 29: 0.0, 30: 0.0}\n",
    "\n",
    "df_eco122 = pd.DataFrame(list(eco_122_dict.items()), columns=[\"wind_speed_in_m_per_s\", \"power_in_kW\"], dtype='float')\n",
    "df_enercon_33 = pd.DataFrame(list(enercon_33_dict.items()), columns=[\"wind_speed_in_m_per_s\", \"power_in_kW\"], dtype='float')\n",
    "df_aventa_AV7 = pd.DataFrame(list(aventa_AV7_dict.items()), columns=[\"wind_speed_in_m_per_s\", \"power_in_kW\"], dtype='float')\n",
    "\n",
    "\n",
    "\n",
    "\n"
   ]
  },
  {
   "cell_type": "markdown",
   "metadata": {},
   "source": [
    "Afterwards, I will need to use the log profile function to determine wind speed at the heights of the wind mills. It exists in the tutorial. However, doing all the calculations is unnecessary. We know that u(z), which is speed, is proportional to logarithm of z, the height. Thus, we can multiply by the quotient of logarithm of current wind turbine's height by quotient of 100 m. "
   ]
  },
  {
   "cell_type": "code",
   "execution_count": 13,
   "metadata": {},
   "outputs": [
    {
     "name": "stdout",
     "output_type": "stream",
     "text": [
      "        wind_direction_100m  wind_direction_10m  wind_speed_100m  \\\n",
      "0                       221                 217              8.4   \n",
      "1                       220                 216              8.4   \n",
      "2                       219                 215              8.5   \n",
      "3                       219                 214              8.6   \n",
      "4                       217                 212              8.8   \n",
      "...                     ...                 ...              ...   \n",
      "175339                  222                 220             14.7   \n",
      "175340                  219                 217             14.3   \n",
      "175341                  216                 214             14.2   \n",
      "175342                  214                 212             14.4   \n",
      "175343                  212                 210             14.6   \n",
      "\n",
      "        wind_speed_10m          period_end period  wind_speed_89m  \\\n",
      "0                  4.7 2014-01-01 00:30:00  PT30M        8.187438   \n",
      "1                  4.8 2014-01-01 01:00:00  PT30M        8.187438   \n",
      "2                  4.9 2014-01-01 01:30:00  PT30M        8.284908   \n",
      "3                  5.0 2014-01-01 02:00:00  PT30M        8.382377   \n",
      "4                  5.1 2014-01-01 02:30:00  PT30M        8.577316   \n",
      "...                ...                 ...    ...             ...   \n",
      "175339             9.6 2024-01-01 22:00:00  PT30M       14.328017   \n",
      "175340             9.3 2024-01-01 22:30:00  PT30M       13.938139   \n",
      "175341             9.3 2024-01-01 23:00:00  PT30M       13.840669   \n",
      "175342             9.4 2024-01-01 23:30:00  PT30M       14.035608   \n",
      "175343             9.5 2024-01-02 00:00:00  PT30M       14.230547   \n",
      "\n",
      "        wind_speed_47m  wind_speed_13m  \n",
      "0             7.022811        4.678562  \n",
      "1             7.022811        4.678562  \n",
      "2             7.106416        4.734259  \n",
      "3             7.190021        4.789956  \n",
      "4             7.357231        4.901351  \n",
      "...                ...             ...  \n",
      "175339       12.289919        8.187484  \n",
      "175340       11.955500        7.964695  \n",
      "175341       11.871895        7.908998  \n",
      "175342       12.039105        8.020392  \n",
      "175343       12.206314        8.131786  \n",
      "\n",
      "[175344 rows x 9 columns]\n"
     ]
    }
   ],
   "source": [
    "\n",
    "df[\"wind_speed_89m\"]=df[\"wind_speed_100m\"]*(np.log(89)/np.log(100))\n",
    "df[\"wind_speed_47m\"]=df[\"wind_speed_100m\"]*(np.log(47)/np.log(100))\n",
    "df[\"wind_speed_13m\"]=df[\"wind_speed_100m\"]*(np.log(13)/np.log(100))\n",
    "\n",
    "\n",
    "print(df)"
   ]
  },
  {
   "cell_type": "code",
   "execution_count": 14,
   "metadata": {},
   "outputs": [],
   "source": [
    "# x_values = np.linspace(1, 30)\n",
    "\n",
    "\n",
    "\n",
    "# # We select the appropriate data and drop empty cells if there are some to not disturb results \n",
    "# data_89m = df['wind_speed_89m'].dropna()\n",
    "\n",
    "# # We fit the Weibull distribution to the data\n",
    "# params_89m = weibull_min.fit(data_89m, floc=0)\n",
    "\n",
    "# # We generate the Weibull distribution with the estimated parameters\n",
    "# weibull_dist_89m = weibull_min(params_89m[0], loc=params_89m[1], scale=params_89m[2])\n",
    "\n",
    "# pdf_89m = weibull_dist_89m.pdf(x_values)\n",
    "# df[\"weibull_dist_89m\"]=pdf_89m\n",
    "\n",
    "\n",
    "# # We select the appropriate data and drop empty cells if there are some to not disturb results \n",
    "# data_47m = df['wind_speed_47m'].dropna()\n",
    "\n",
    "# # We fit the Weibull distribution to the data\n",
    "# params_47m = weibull_min.fit(data_47m, floc=0)\n",
    "\n",
    "# # We generate the Weibull distribution with the estimated parameters\n",
    "# weibull_dist_47m = weibull_min(params_47m[0], loc=params_47m[1], scale=params_47m[2])\n",
    "\n",
    "# pdf_47m = weibull_dist_47m.pdf(x_values)\n",
    "# df[\"weibull_dist_47m\"]=pdf_47m\n",
    "\n",
    "\n",
    "# # We select the appropriate data and drop empty cells if there are some to not disturb results \n",
    "# data_13m = df['wind_speed_13m'].dropna()\n",
    "\n",
    "# # We fit the Weibull distribution to the data\n",
    "# params_13m = weibull_min.fit(data_13m, floc=0)\n",
    "\n",
    "# # We generate the Weibull distribution with the estimated parameters\n",
    "# weibull_dist_13m = weibull_min(params_13m[0], loc=params_13m[1], scale=params_13m[2])\n",
    "\n",
    "# pdf_13m = weibull_dist_13m.pdf(x_values)\n",
    "# df[\"weibull_dist_13m\"]=pdf_13m"
   ]
  },
  {
   "cell_type": "markdown",
   "metadata": {},
   "source": [
    "Since we have dictionaries of speed-to-power for different windmills, as well as their speeds, we can now easily map their speed values to power, creating columns for power generation for each windmill in the dataframe. "
   ]
  },
  {
   "cell_type": "code",
   "execution_count": 15,
   "metadata": {},
   "outputs": [],
   "source": [
    "# round the wind speed columns to integers. Maybe I could've just converted them to int instead\n",
    "df = df.round({'wind_speed_89m': 0, 'wind_speed_47m': 0, 'wind_speed_13m': 0})\n",
    "\n",
    "# Create a new column 'Power' by mapping the 'Speeds' column to the dictionary\n",
    "df['power_89m'] = df['wind_speed_89m'].map(eco_122_dict)\n",
    "\n",
    "df['power_47m'] = df['wind_speed_47m'].map(enercon_33_dict)\n",
    "\n",
    "df['power_13m'] = df['wind_speed_13m'].map(aventa_AV7_dict)\n",
    "\n",
    "\n",
    "\n"
   ]
  },
  {
   "cell_type": "markdown",
   "metadata": {},
   "source": [
    "Once again, we shape the dataframe to only one year. We didn't do it earlier, since we want to be able to calculate power for eveyr possible year"
   ]
  },
  {
   "cell_type": "code",
   "execution_count": 16,
   "metadata": {},
   "outputs": [],
   "source": [
    "# Original date\n",
    "start_date = df[\"period_end\"].iloc[0]\n",
    "\n",
    "# Add one year to the date\n",
    "end_date = start_date + relativedelta(years=1)\n",
    "\n",
    "# contain the dataset to only 1 year\n",
    "df_year1 = df[df[\"period_end\"] <= end_date]"
   ]
  },
  {
   "cell_type": "markdown",
   "metadata": {},
   "source": [
    "This code is for checking, how many hours' worth of wind generation per year does the first turbine have. It's 133 hours per year, if you add together all the values of power generation and divide them by 120. This is because each cell represents 30 min, while power is measured in kWh."
   ]
  },
  {
   "cell_type": "code",
   "execution_count": 17,
   "metadata": {},
   "outputs": [
    {
     "name": "stdout",
     "output_type": "stream",
     "text": [
      "wind_direction_100m    15972\n",
      "wind_direction_10m     15972\n",
      "wind_speed_100m        15972\n",
      "wind_speed_10m         15972\n",
      "period_end             15972\n",
      "period                 15972\n",
      "wind_speed_89m         15972\n",
      "wind_speed_47m         15972\n",
      "wind_speed_13m         15972\n",
      "power_89m              15972\n",
      "power_47m              15972\n",
      "power_13m              15972\n",
      "dtype: int64\n",
      "7986.0\n"
     ]
    }
   ],
   "source": [
    "print(df_year1[df_year1['power_89m']>0].count())\n",
    "print(15972/(2))"
   ]
  },
  {
   "cell_type": "markdown",
   "metadata": {},
   "source": [
    "In the tutorial, we calculated the power production per year by using weibull distribution. Since we now have wind speed and power across the entire year, the weibull distribution is no longer necessary. Now we need to just sum up all the power values in this year. \n",
    "However, each cell represents 30 seconds, and power values are in units of kWh. As a result, we need to divide by $(3600/30=120)$, so that the values of power are less outrageous.\n",
    "A small question - do I include power production per year into the dataframe? Or do I make it a separate value? I guess I don't, since in the first tutorial this made sense du to the different context."
   ]
  },
  {
   "cell_type": "code",
   "execution_count": 18,
   "metadata": {},
   "outputs": [
    {
     "name": "stdout",
     "output_type": "stream",
     "text": [
      "2700 kWh for ECO 122\n",
      "335.0 kWh for Enercon 33\n",
      "6.2 kWh for Aventa AV7\n",
      "Power produced per year by ECO 122: 8927736.5 kWh\n",
      "Power produced per year by Enercon 33: 584047.7000000001 kWh\n",
      "Power produced per year by Aventa AV7: 15530.700000000003 kWh\n",
      "Operational time in a year for ECO 122: 7986.0 hours\n",
      "Operational time in a year for Enercon 33: 7703.0 hours\n",
      "Operational time in a year for Aventa AV7: 7924.5 hours\n",
      "Capacity factor of a turbine ECO 122 37.74622230678167 %\n",
      "Capacity factor of a turbine Enercon 33 19.90212294690929 %\n",
      "Capacity factor of a turbine Aventa AV7 28.595338046840478 %\n"
     ]
    }
   ],
   "source": [
    "# values of power production per year for each windmill\n",
    "# and yes, dividing by 120 is necessary, since each period is 30 secs, 120 times smaller than 1 hour. And power is measured in kWh here\n",
    "power_production_in_kWh_per_yr_89m = df_year1['power_89m'].sum()/2\n",
    "power_production_in_kWh_per_yr_47m = df_year1['power_47m'].sum()/2\n",
    "power_production_in_kWh_per_yr_13m = df_year1['power_13m'].sum()/2\n",
    "\n",
    "# amount of time operating per year for each windmill\n",
    "# first, define only numerical columns to avoid accidents\n",
    "numeric_columns = df_year1.select_dtypes(include=[np.number])\n",
    "\n",
    "# then filter and count the times when power generated is above 0. Divide by 120, since once again, \n",
    "# we want to convert 30-sec intervals into hours\n",
    "filtered_df = numeric_columns[numeric_columns['power_89m'].fillna(0) > 0]\n",
    "oper_time_89m = filtered_df['power_89m'].count()/2\n",
    "\n",
    "filtered_df = numeric_columns[numeric_columns['power_47m'].fillna(0) > 0]\n",
    "oper_time_47m = filtered_df['power_47m'].count()/2\n",
    "\n",
    "filtered_df = numeric_columns[numeric_columns['power_13m'].fillna(0) > 0]\n",
    "oper_time_13m = filtered_df['power_13m'].count()/2\n",
    "\n",
    "# find the maximum power values of a wind turbine. Base on the dictionaries defined earlier\n",
    "max_89m = max(eco_122_dict.values())\n",
    "max_47m = max(enercon_33_dict.values())\n",
    "max_13m = max(aventa_AV7_dict.values())\n",
    "# show that I got the right maximum values\n",
    "print(max_89m, \"kWh for ECO 122\")\n",
    "print(max_47m, \"kWh for Enercon 33\")\n",
    "print(max_13m, \"kWh for Aventa AV7\")\n",
    "\n",
    "\n",
    "# find the capacity factor of a turbine based on its power production and maximum possible power\n",
    "capacity_factor_89m = power_production_in_kWh_per_yr_89m/(365*24*max_89m)\n",
    "capacity_factor_47m = power_production_in_kWh_per_yr_47m/(365*24*max_47m)\n",
    "capacity_factor_13m = power_production_in_kWh_per_yr_13m/(365*24*max_13m)\n",
    "\n",
    "# print these values\n",
    "print(\"Power produced per year by ECO 122:\",power_production_in_kWh_per_yr_89m, \"kWh\")\n",
    "print(\"Power produced per year by Enercon 33:\",power_production_in_kWh_per_yr_47m, \"kWh\")\n",
    "print(\"Power produced per year by Aventa AV7:\",power_production_in_kWh_per_yr_13m, \"kWh\")\n",
    "print(\"Operational time in a year for ECO 122:\",oper_time_89m, \"hours\")\n",
    "print(\"Operational time in a year for Enercon 33:\",oper_time_47m, \"hours\")\n",
    "print(\"Operational time in a year for Aventa AV7:\",oper_time_13m, \"hours\")\n",
    "print(\"Capacity factor of a turbine ECO 122\",capacity_factor_89m*100, \"%\")\n",
    "print(\"Capacity factor of a turbine Enercon 33\",capacity_factor_47m*100, \"%\")\n",
    "print(\"Capacity factor of a turbine Aventa AV7\",capacity_factor_13m*100, \"%\")\n",
    "\n",
    "\n",
    "\n",
    "\n"
   ]
  },
  {
   "cell_type": "markdown",
   "metadata": {},
   "source": [
    "We did it! We calculated power generated in a year, operational hours and capacity factor for one year. Now, we must find a way to do the same for any possible year. We'd want to have a function, where as input we get the dataframe and the year we want to choose. As output we'd get all that necessary data. This will be very useful. "
   ]
  },
  {
   "cell_type": "code",
   "execution_count": 19,
   "metadata": {},
   "outputs": [],
   "source": [
    "def turbine_data_per_year(chosen_year):\n",
    "    \"\"\"This function returns for each of the 3 wind turbines 3 lists:\n",
    "    powerlist - power per year in kWh\n",
    "    operlist - hours per year working\n",
    "    capacitylist - capacity factor per year\n",
    "    Each of these lists has data for 3 turbines: ECO122, Enercon 33 and Aventa AV7\"\"\"\n",
    "    df_year = df[df['period_end'].dt.year == chosen_year]\n",
    "\n",
    "    # values of power production per year for each windmill\n",
    "    # and yes, dividing by 120 is necessary, since each period is 30 secs, 120 times smaller than 1 hour. And power is measured in kWh here\n",
    "    power_production_in_kWh_per_yr_89m = df_year['power_89m'].sum()/2\n",
    "    power_production_in_kWh_per_yr_47m = df_year['power_47m'].sum()/2\n",
    "    power_production_in_kWh_per_yr_13m = df_year['power_13m'].sum()/2\n",
    "    powerlist = [power_production_in_kWh_per_yr_89m, power_production_in_kWh_per_yr_47m, power_production_in_kWh_per_yr_13m]\n",
    "    # amount of time operating per year for each windmill\n",
    "    # first, define only numerical columns to avoid accidents\n",
    "    numeric_columns = df_year.select_dtypes(include=[np.number])\n",
    "\n",
    "    # then filter and count the times when power generated is above 0. Divide by 2, since once again, \n",
    "    # we want to convert 30-min intervals into hours\n",
    "    filtered_df = numeric_columns[numeric_columns['power_89m'].fillna(0) > 0]\n",
    "    oper_time_89m = filtered_df['power_89m'].count()/2\n",
    "\n",
    "    filtered_df = numeric_columns[numeric_columns['power_47m'].fillna(0) > 0]\n",
    "    oper_time_47m = filtered_df['power_47m'].count()/2\n",
    "\n",
    "    filtered_df = numeric_columns[numeric_columns['power_13m'].fillna(0) > 0]\n",
    "    oper_time_13m = filtered_df['power_13m'].count()/2\n",
    "\n",
    "    operlist = [oper_time_89m, oper_time_47m, oper_time_13m]\n",
    "\n",
    "    # find the maximum power values of a wind turbine. Base on the dictionaries defined earlier\n",
    "    max_89m = max(eco_122_dict.values())\n",
    "    max_47m = max(enercon_33_dict.values())\n",
    "    max_13m = max(aventa_AV7_dict.values())\n",
    "\n",
    "    # find the capacity factor of a turbine based on its power production and maximum possible power\n",
    "    capacity_factor_89m = power_production_in_kWh_per_yr_89m/(365*24*max_89m)\n",
    "    capacity_factor_47m = power_production_in_kWh_per_yr_47m/(365*24*max_47m)\n",
    "    capacity_factor_13m = power_production_in_kWh_per_yr_13m/(365*24*max_13m)\n",
    "    capacitylist = [capacity_factor_89m, capacity_factor_47m, capacity_factor_13m]\n",
    "\n",
    "    return powerlist, operlist, capacitylist\n"
   ]
  },
  {
   "cell_type": "markdown",
   "metadata": {},
   "source": [
    "This sounds nice. But can we test it out for year 2017, for example? Turns out that indeed we can"
   ]
  },
  {
   "cell_type": "code",
   "execution_count": 20,
   "metadata": {},
   "outputs": [
    {
     "name": "stdout",
     "output_type": "stream",
     "text": [
      "Power per year for three turbines [8216436.0, 527547.4, 13916.400000000001]\n",
      "Operation time per year for three turbines in hours [7995.0, 7741.0, 7932.0]\n",
      "Capacity factor for the 3 turbines [0.347388635210553, 0.17976807742111361, 0.2562306672558551]\n"
     ]
    }
   ],
   "source": [
    "power, operation_time, capacity_factor=turbine_data_per_year(2017)\n",
    "print(\"Power per year for three turbines\",power)\n",
    "print(\"Operation time per year for three turbines in hours\",operation_time)\n",
    "print(\"Capacity factor for the 3 turbines\", capacity_factor)"
   ]
  },
  {
   "cell_type": "code",
   "execution_count": null,
   "metadata": {},
   "outputs": [],
   "source": []
  },
  {
   "cell_type": "markdown",
   "metadata": {},
   "source": [
    "Next, we need to plot the capacity factor for each turbine. Firstly as a function of month, next as a function of the year. I think that this is the same thing, but let's get to it first, before arguing."
   ]
  },
  {
   "cell_type": "code",
   "execution_count": 41,
   "metadata": {},
   "outputs": [],
   "source": [
    "# df is already defined and contains the relevant data\n",
    "# then I resample by month and sum the power production values\n",
    "df_monthly = df.resample('ME', on='period_end').sum()\n",
    "\n",
    "# Initialize lists to store capacity factors\n",
    "capacity_factor_89m = []\n",
    "capacity_factor_47m = []\n",
    "capacity_factor_13m = []\n",
    "\n",
    "# find the capacity factors for the current month. iterate the resampled dataframe\n",
    "for period_end in df_monthly.index:\n",
    "    # Get the year and month\n",
    "    year = period_end.year\n",
    "    month = period_end.month\n",
    "\n",
    "    # finding the number of days in the current month\n",
    "    num_days = calendar.monthrange(year, month)[1]\n",
    "\n",
    "    # calculating capacity factors. These values should be divided by 2, since power is measured in kWh, while each cell represents only 30 mins\n",
    "    cf_89m = df_monthly.loc[period_end, 'power_89m'] / (max_89m * num_days * 24*2)\n",
    "    cf_47m = df_monthly.loc[period_end, 'power_47m'] / (max_47m * num_days * 24*2)\n",
    "    cf_13m = df_monthly.loc[period_end, 'power_13m'] / (max_13m * num_days * 24*2)\n",
    "\n",
    "    # append capacity factors to their respective lists\n",
    "    capacity_factor_89m.append(cf_89m)\n",
    "    capacity_factor_47m.append(cf_47m)\n",
    "    capacity_factor_13m.append(cf_13m)\n",
    "\n",
    "# Convert lists to a DataFrame for easy plotting\n",
    "df_capacity_factors = pd.DataFrame({\n",
    "    'period_end': df_monthly.index,\n",
    "    'capacity_factor_89m': capacity_factor_89m,\n",
    "    'capacity_factor_47m': capacity_factor_47m,\n",
    "    'capacity_factor_13m': capacity_factor_13m\n",
    "})\n",
    "\n",
    "# Plot the capacity factors in 3 subplots\n",
    "fig, axs = plt.subplots(3, 1, figsize=(12, 20))\n",
    "fig.suptitle(\"Monthly Capacity Factor for La Rochelle\", fontsize=18, y=0.99, va='center')\n",
    "# Plot for ECO 122\n",
    "axs[0].plot(df_capacity_factors['period_end'], df_capacity_factors['capacity_factor_89m'], label='ECO 122', color='blue')\n",
    "axs[0].set_xlabel('Month')\n",
    "axs[0].set_ylabel('Capacity Factor')\n",
    "axs[0].set_title('Monthly Capacity Factor for ECO 122')\n",
    "axs[0].legend()\n",
    "axs[0].grid(True)\n",
    "\n",
    "# Plot for Enercon 33\n",
    "axs[1].plot(df_capacity_factors['period_end'], df_capacity_factors['capacity_factor_47m'], label='Enercon 33', color='green')\n",
    "axs[1].set_xlabel('Month')\n",
    "axs[1].set_ylabel('Capacity Factor')\n",
    "axs[1].set_title('Monthly Capacity Factor for Enercon 33')\n",
    "axs[1].legend()\n",
    "axs[1].grid(True)\n",
    "\n",
    "# Plot for Aventa AV7\n",
    "axs[2].plot(df_capacity_factors['period_end'], df_capacity_factors['capacity_factor_13m'], label='Aventa AV7', color='red')\n",
    "axs[2].set_xlabel('Month')\n",
    "axs[2].set_ylabel('Capacity Factor')\n",
    "axs[2].set_title('Monthly Capacity Factor for Aventa AV7')\n",
    "axs[2].legend()\n",
    "axs[2].grid(True)\n",
    "\n",
    "# Adjust layout and show plot\n",
    "plt.tight_layout()\n",
    "plt.savefig(\"turbine_capacity_factor_monthly.webp\")\n",
    "plt.close()"
   ]
  },
  {
   "cell_type": "code",
   "execution_count": 22,
   "metadata": {},
   "outputs": [],
   "source": [
    "# df is already defined and contains the relevant data\n",
    "# then I resample by month and sum the power production values\n",
    "df_yearly = df.resample('YE', on='period_end').sum()\n",
    "\n",
    "# Initialize lists to store capacity factors\n",
    "capacity_factor_89m = []\n",
    "capacity_factor_47m = []\n",
    "capacity_factor_13m = []\n",
    "\n",
    "def get_num_days_in_year(df, year):\n",
    "    # Filter the dataframe for the specified year\n",
    "    df_year = df[df['period_end'].dt.year == year]\n",
    "    # Get the number of unique days in the filtered dataframe\n",
    "    num_days_in_year = df_year['period_end'].dt.date.nunique()\n",
    "    return num_days_in_year\n",
    "\n",
    "# find the capacity factors for the current month. iterate the resampled dataframe\n",
    "for period_end in df_yearly.index:\n",
    "    # Get the year and month\n",
    "    year = period_end.year\n",
    "\n",
    "    # finding the number of days in the current month\n",
    "    num_days = get_num_days_in_year(df, year)\n",
    "  \n",
    "\n",
    "    # calculating capacity factors. Should I divide capacity factor values by 120?\n",
    "    cf_89m = df_yearly.loc[period_end, 'power_89m'] / (max_89m * num_days * 24*2)\n",
    "    cf_47m = df_yearly.loc[period_end, 'power_47m'] / (max_47m * num_days * 24*2)\n",
    "    cf_13m = df_yearly.loc[period_end, 'power_13m'] / (max_13m * num_days * 24*2)\n",
    "\n",
    "    # append capacity factors to their respective lists\n",
    "    capacity_factor_89m.append(cf_89m)\n",
    "    capacity_factor_47m.append(cf_47m)\n",
    "    capacity_factor_13m.append(cf_13m)\n",
    "\n",
    "# Convert lists to a DataFrame for easy plotting\n",
    "df_capacity_factors = pd.DataFrame({\n",
    "    'period_end': df_yearly.index,\n",
    "    'capacity_factor_89m': capacity_factor_89m,\n",
    "    'capacity_factor_47m': capacity_factor_47m,\n",
    "    'capacity_factor_13m': capacity_factor_13m\n",
    "})\n",
    "\n",
    "# Plot the capacity factors in 3 subplots\n",
    "fig, axs = plt.subplots(3, 1, figsize=(12, 18))\n",
    "\n",
    "# Plot for ECO 122\n",
    "axs[0].plot(df_capacity_factors['period_end'], df_capacity_factors['capacity_factor_89m'], label='ECO 122', color='blue')\n",
    "axs[0].set_xlabel('Year')\n",
    "axs[0].set_ylabel('Capacity Factor')\n",
    "axs[0].set_title('Yearly Capacity Factor for ECO 122')\n",
    "axs[0].legend()\n",
    "axs[0].grid(True)\n",
    "\n",
    "# Plot for Enercon 33\n",
    "axs[1].plot(df_capacity_factors['period_end'], df_capacity_factors['capacity_factor_47m'], label='Enercon 33', color='green')\n",
    "axs[1].set_xlabel('Year')\n",
    "axs[1].set_ylabel('Capacity Factor')\n",
    "axs[1].set_title('Yearly Capacity Factor for Enercon 33')\n",
    "axs[1].legend()\n",
    "axs[1].grid(True)\n",
    "\n",
    "# Plot for Aventa AV7\n",
    "axs[2].plot(df_capacity_factors['period_end'], df_capacity_factors['capacity_factor_13m'], label='Aventa AV7', color='red')\n",
    "axs[2].set_xlabel('Year')\n",
    "axs[2].set_ylabel('Capacity Factor')\n",
    "axs[2].set_title('Yearly Capacity Factor for Aventa AV7')\n",
    "axs[2].legend()\n",
    "axs[2].grid(True)\n",
    "\n",
    "# Adjust layout and show plot\n",
    "plt.tight_layout()\n",
    "plt.savefig(\"turbine_capacity_factor_yearly.webp\")\n",
    "plt.close()"
   ]
  },
  {
   "cell_type": "markdown",
   "metadata": {},
   "source": [
    "This is very curious. Even though we deal with the exact same data in both cases, grouping by year and grouping by month produce different-shaped results. "
   ]
  },
  {
   "cell_type": "markdown",
   "metadata": {},
   "source": [
    "## Analysis\n",
    "\n",
    "My chosen town is La Rochelle. Population of 78,535 people, each person consuming 2,223 kWh per year. We already calculated how much power in kWh each wind turbine generates per year. So we will find out, how many of each kind of turbine is enough to satisfy the needs of the town."
   ]
  },
  {
   "cell_type": "code",
   "execution_count": 46,
   "metadata": {},
   "outputs": [
    {
     "name": "stdout",
     "output_type": "stream",
     "text": [
      "18.88 ECO122 wind turbines needed to power La Rochelle for 1 year\n",
      "277.17 Enercon33 wind turbines needed to power La Rochelle for 1 year\n",
      "10661.12 Aventa_AV7 wind turbines needed to power La Rochelle for 1 year\n",
      "Since the wind turbines won't generate power for 32.04 days, the storage capacity must be 15325863.19 kWh\n"
     ]
    },
    {
     "data": {
      "image/png": "[encoded data removed]",
      "text/plain": [
       "<Figure size 1000x600 with 1 Axes>"
      ]
     },
     "metadata": {},
     "output_type": "display_data"
    }
   ],
   "source": [
    "power, operation_time, capacity_factor=turbine_data_per_year(2023)\n",
    "ECO122_power = power[0]\n",
    "Enercon33_power=power[1]\n",
    "Aventa_AV7_power=power[2]\n",
    "la_rochelle_pop = 78535\n",
    "la_rochelle_consumption = la_rochelle_pop*2223\n",
    "ECO122_needed = la_rochelle_consumption/ECO122_power\n",
    "Enercon33_needed = la_rochelle_consumption/Enercon33_power\n",
    "Aventa_AV7_needed = la_rochelle_consumption/Aventa_AV7_power\n",
    "ECO122_operation_time = operation_time[0]\n",
    "remaining_time = 365-(operation_time[0]/24)\n",
    "remaining_energy = (remaining_time/365)*la_rochelle_consumption\n",
    "\n",
    "turbine_costs = {\n",
    "    'Alstom_ECO122': 3000000,\n",
    "    'Enercon_E33': 1000000,\n",
    "    'Aventa_AV7': 150000\n",
    "}\n",
    "\n",
    "print(ECO122_needed.round(2), \"ECO122 wind turbines needed to power La Rochelle for 1 year\")\n",
    "print(Enercon33_needed.round(2), \"Enercon33 wind turbines needed to power La Rochelle for 1 year\")\n",
    "print(Aventa_AV7_needed.round(2), \"Aventa_AV7 wind turbines needed to power La Rochelle for 1 year\")\n",
    "print(\"Since the wind turbines won't generate power for\", remaining_time.round(2), \"days, the storage capacity must be\", remaining_energy.round(2), \"kWh\")\n",
    "\n",
    "\n",
    "turbines = [\"ECO122\", \"Enercon33\", \"Aventa_AV7\"]\n",
    "values = [ECO122_needed, Enercon33_needed, Aventa_AV7_needed]\n",
    "total_costs = [values[i] * list(turbine_costs.values())[i] for i in range(len(turbines))]\n",
    "\n",
    "plt.figure(figsize=(10, 6))\n",
    "plt.bar(turbines, values, color=['blue', 'green', 'red'])\n",
    "plt.yscale('log')\n",
    "plt.xlabel('Type of Wind Turbine')\n",
    "plt.ylabel('Number of Wind Turbines Needed (Log Scale)')\n",
    "plt.title('Number of Wind Turbines Needed to Power La Rochelle for 1 Year')\n",
    "plt.grid(True, which=\"both\", ls=\"--\", linewidth=0.5)\n",
    "plt.savefig(\"turbines_needed.webp\")\n",
    "plt.close()\n",
    "\n",
    "plt.figure(figsize=(10, 6))\n",
    "plt.bar(turbines, total_costs, color=['blue', 'green', 'red'])\n",
    "plt.yscale('log')\n",
    "plt.xlabel('Type of Wind Turbine')\n",
    "plt.ylabel('Total Cost (Log Scale)')\n",
    "plt.title('Total Cost to Power La Rochelle for 1 Year by Turbine Type')\n",
    "plt.grid(True, which=\"both\", ls=\"--\", linewidth=0.5)\n",
    "\n"
   ]
  },
  {
   "cell_type": "markdown",
   "metadata": {},
   "source": [
    "I admit that wind turbines are not the most potent source of electric energy, but this is a large amount of wind turbines needed to power a small town. I suppose that of all the wind turbine types, ECO122 would be the most feasible. Sure, greater size might bring greater costs. But 19 large ECO122 turbines still won't be anywhere near the cost of placing almost 11 thousand mini-sized Aventa AV7 turbines.\n",
    "\n",
    "Also, I am a bit unsure if I did the last calculation for the storage capacity correctly. Keeping track between kWh per day and kWh per year is rather difficult sometimes."
   ]
  },
  {
   "cell_type": "code",
   "execution_count": 5,
   "metadata": {},
   "outputs": [
    {
     "data": {
      "image/png": "[encoded data removed]",
      "text/plain": [
       "<Figure size 1000x700 with 1 Axes>"
      ]
     },
     "metadata": {},
     "output_type": "display_data"
    }
   ],
   "source": [
    "turbines = [\"ECO122\", \"Enercon33\", \"Aventa_AV7\"]\n",
    "turbine_costs = {\n",
    "    'Alstom_ECO122': 3000000,\n",
    "    'Enercon_E33': 1000000,\n",
    "    'Aventa_AV7': 150000\n",
    "}\n",
    "\n",
    "turbines_needed_LaRochelle = {'Alstom_ECO122': 18.88, 'Enercon_E33': 277.17, 'Aventa_AV7': 10661}\n",
    "turbines_needed_Paris={'Alstom_ECO122': 2214.0, 'Enercon_E33': 34921.0, 'Aventa_AV7': 584974.0}\n",
    "turbines_needed_Nimes={'Alstom_ECO122': 3401, 'Enercon_E33': 4584, 'Aventa_AV7': 9127}\n",
    "\n",
    "\n",
    "# Calculate total costs\n",
    "costs_LaRochelle = {k: turbines_needed_LaRochelle[k] * turbine_costs[k] for k in turbines_needed_LaRochelle}\n",
    "costs_Paris = {k: turbines_needed_Paris[k] * turbine_costs[k] for k in turbines_needed_Paris}\n",
    "costs_Nimes = {k: turbines_needed_Nimes[k] * turbine_costs[k] for k in turbines_needed_Nimes}\n",
    "\n",
    "# Data for plotting\n",
    "labels = ['Alstom_ECO122', 'Enercon_E33', 'Aventa_AV7']\n",
    "LaRochelle_costs = [costs_LaRochelle[label] for label in labels]\n",
    "Paris_costs = [costs_Paris[label] for label in labels]\n",
    "Nimes_costs = [costs_Nimes[label] for label in labels]\n",
    "\n",
    "# Create the bar chart\n",
    "x = np.arange(len(labels))  # Label locations\n",
    "width = 0.25  # Width of the bars\n",
    "\n",
    "fig, ax = plt.subplots(figsize=(10, 7))\n",
    "\n",
    "# Plot each city\n",
    "bars_LaRochelle = ax.bar(x - width, LaRochelle_costs, width, label='La Rochelle')\n",
    "bars_Paris = ax.bar(x, Paris_costs, width, label='Paris')\n",
    "bars_Nimes = ax.bar(x + width, Nimes_costs, width, label='Nimes')\n",
    "\n",
    "# Add some text for labels, title, and custom x-axis tick labels, etc.\n",
    "ax.set_xlabel('Turbine Type')\n",
    "ax.set_ylabel('Total Installation Cost (€)')\n",
    "ax.set_title('Total Installation Costs of Turbines by City and Turbine Type')\n",
    "ax.set_xticks(x)\n",
    "ax.set_yscale('log')\n",
    "ax.set_xticklabels(labels)\n",
    "ax.legend()\n",
    "\n",
    "# Function to add labels on the bars\n",
    "def add_labels(bars):\n",
    "    for bar in bars:\n",
    "        height = bar.get_height()\n",
    "        ax.annotate('€{:,.0f}'.format(height),\n",
    "                    xy=(bar.get_x() + bar.get_width() / 2, height),\n",
    "                    xytext=(0, 3),  # 3 points vertical offset\n",
    "                    textcoords=\"offset points\",\n",
    "                    ha='center', va='bottom')\n",
    "\n",
    "# Add labels on the bars\n",
    "add_labels(bars_LaRochelle)\n",
    "add_labels(bars_Paris)\n",
    "add_labels(bars_Nimes)\n",
    "\n",
    "fig.tight_layout()\n",
    "\n",
    "plt.show()\n"
   ]
  }
 ],
 "metadata": {
  "kernelspec": {
   "display_name": "v",
   "language": "python",
   "name": "python3"
  },
  "language_info": {
   "codemirror_mode": {
    "name": "ipython",
    "version": 3
   },
   "file_extension": ".py",
   "mimetype": "text/x-python",
   "name": "python",
   "nbconvert_exporter": "python",
   "pygments_lexer": "ipython3",
   "version": "3.12.2"
  }
 },
 "nbformat": 4,
 "nbformat_minor": 2
}
